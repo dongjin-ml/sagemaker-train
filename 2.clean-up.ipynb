{
 "cells": [
  {
   "cell_type": "markdown",
   "id": "302fc930-df6b-40b8-90b5-9dd4d1671895",
   "metadata": {},
   "source": [
    "# <B> Clean up </B>"
   ]
  },
  {
   "cell_type": "markdown",
   "id": "0cca329c-e82d-4297-a385-051354db5ba8",
   "metadata": {},
   "source": [
    "## AutoReload"
   ]
  },
  {
   "cell_type": "code",
   "execution_count": 1,
   "id": "a1201c9f-b765-4716-adcc-1fae82a14e39",
   "metadata": {},
   "outputs": [],
   "source": [
    "%load_ext autoreload\n",
    "%autoreload 2"
   ]
  },
  {
   "cell_type": "markdown",
   "id": "ea2c8dec-f2ab-4e31-96b6-7d3be9105279",
   "metadata": {},
   "source": [
    "## clean"
   ]
  },
  {
   "cell_type": "code",
   "execution_count": 12,
   "id": "bb7594d9-b92a-4287-b65d-af6e2c9dce02",
   "metadata": {},
   "outputs": [],
   "source": [
    "import os\n",
    "import boto3\n",
    "from utils.ssm import parameter_store"
   ]
  },
  {
   "cell_type": "code",
   "execution_count": 6,
   "id": "fc4b9dfc-41db-4886-ad8c-1d4795914630",
   "metadata": {},
   "outputs": [],
   "source": [
    "strRegionName=boto3.Session().region_name\n",
    "pm = parameter_store(strRegionName)\n",
    "strPrefix = pm.get_params(key=\"PREFIX\")"
   ]
  },
  {
   "cell_type": "markdown",
   "id": "df4ef32e-7dfc-47c0-b9c1-68c1295f15c0",
   "metadata": {},
   "source": [
    "* S3 Bucket"
   ]
  },
  {
   "cell_type": "code",
   "execution_count": 13,
   "id": "10cca5aa-6052-4e92-8128-d53d92cb5205",
   "metadata": {},
   "outputs": [],
   "source": [
    "strBucketName = pm.get_params(key=strPrefix + \"BUCKET\")"
   ]
  },
  {
   "cell_type": "code",
   "execution_count": 14,
   "id": "8b5dc5d3-3ded-424f-92d7-5c526bf4cca0",
   "metadata": {},
   "outputs": [],
   "source": [
    "strQuery = \"\".join([\"aws s3 rm --recursive \", '\"s3://', strBucketName, '\"'])\n",
    "strResponse = os.popen(strQuery).read()\n",
    "strQuery = \"\".join([\"aws s3 rb \", '\"s3://', strBucketName, '\"'])\n",
    "strResponse = os.popen(strQuery).read()"
   ]
  },
  {
   "cell_type": "markdown",
   "id": "4cccc222-24eb-4912-87ff-3709ae175aa6",
   "metadata": {},
   "source": [
    "* parameter store"
   ]
  },
  {
   "cell_type": "code",
   "execution_count": null,
   "id": "2d8f2187-8d40-4dd8-bc09-e34a0ece5cf6",
   "metadata": {},
   "outputs": [],
   "source": [
    "listParams = pm.get_all_params()\n",
    "listParams = [strParam for strParam in listParams if strPrefix in strParam] + [\"PREFIX\"]\n",
    "pm.delete_param(listParams)"
   ]
  }
 ],
 "metadata": {
  "kernelspec": {
   "display_name": "conda_python3",
   "language": "python",
   "name": "conda_python3"
  },
  "language_info": {
   "codemirror_mode": {
    "name": "ipython",
    "version": 3
   },
   "file_extension": ".py",
   "mimetype": "text/x-python",
   "name": "python",
   "nbconvert_exporter": "python",
   "pygments_lexer": "ipython3",
   "version": "3.10.6"
  }
 },
 "nbformat": 4,
 "nbformat_minor": 5
}
