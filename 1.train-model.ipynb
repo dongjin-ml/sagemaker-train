{
 "cells": [
  {
   "cell_type": "markdown",
   "id": "93de7fc8-120d-4f33-87e2-16a2fda7ba59",
   "metadata": {
    "jupyter": {
     "outputs_hidden": true
    },
    "tags": []
   },
   "source": [
    "# <B> Training models using the framework (Torch) </B>"
   ]
  },
  {
   "cell_type": "markdown",
   "id": "fcc3cc4d-c811-4f7a-ad0b-be6e1f836987",
   "metadata": {},
   "source": [
    "## AutoReload"
   ]
  },
  {
   "cell_type": "code",
   "execution_count": 82,
   "id": "ccb8c76f-4524-4e03-a66b-2e81837b4890",
   "metadata": {},
   "outputs": [
    {
     "name": "stdout",
     "output_type": "stream",
     "text": [
      "The autoreload extension is already loaded. To reload it, use:\n",
      "  %reload_ext autoreload\n"
     ]
    }
   ],
   "source": [
    "%load_ext autoreload\n",
    "%autoreload 2"
   ]
  },
  {
   "cell_type": "markdown",
   "id": "282a6609-067e-4154-b034-c81538a2e5d0",
   "metadata": {},
   "source": [
    "## 1. parameter store 셋팅"
   ]
  },
  {
   "cell_type": "code",
   "execution_count": 83,
   "id": "b47f5425-2013-49ca-98ef-29cb2131b1c1",
   "metadata": {},
   "outputs": [],
   "source": [
    "import boto3\n",
    "from utils.ssm import parameter_store"
   ]
  },
  {
   "cell_type": "code",
   "execution_count": 45,
   "id": "2c1a73ae-241c-447a-b682-3a882ebdffac",
   "metadata": {},
   "outputs": [],
   "source": [
    "strRegionName=boto3.Session().region_name\n",
    "pm = parameter_store(strRegionName)\n",
    "strPrefix = pm.get_params(key=\"PREFIX\")"
   ]
  },
  {
   "cell_type": "markdown",
   "id": "47a0afbb-666b-44a1-8d67-d34fa500cdb1",
   "metadata": {
    "tags": []
   },
   "source": [
    "## 2. train"
   ]
  },
  {
   "cell_type": "markdown",
   "id": "214501ef-2ca4-4f8b-9e1b-5c104f655e00",
   "metadata": {},
   "source": [
    "### 2.1 with built-in PyTorch image\n",
    "* https://sagemaker-examples.readthedocs.io/en/latest/aws_sagemaker_studio/frameworks/pytorch_cnn_cifar10/pytorch_cnn_cifar10.html\n",
    "* https://sagemaker.readthedocs.io/en/stable/frameworks/pytorch/using_pytorch.html\n",
    "* train, deploy and inference: https://sagemaker.readthedocs.io/en/stable/frameworks/pytorch/sagemaker.pytorch.html"
   ]
  },
  {
   "cell_type": "code",
   "execution_count": 46,
   "id": "64393344-31dc-47b4-976e-5d3516c6ef9f",
   "metadata": {},
   "outputs": [],
   "source": [
    "from sagemaker.pytorch import PyTorch"
   ]
  },
  {
   "cell_type": "code",
   "execution_count": 51,
   "id": "42ee4df1-61c5-423d-b10e-0a5df8c9eb5c",
   "metadata": {
    "collapsed": true,
    "jupyter": {
     "outputs_hidden": true
    },
    "tags": []
   },
   "outputs": [
    {
     "name": "stderr",
     "output_type": "stream",
     "text": [
      "INFO:sagemaker.image_uris:image_uri is not presented, retrieving image_uri based on instance_type, framework etc.\n",
      "INFO:botocore.credentials:Found credentials from IAM Role: BaseNotebookInstanceEc2InstanceRole\n",
      "INFO:sagemaker.image_uris:image_uri is not presented, retrieving image_uri based on instance_type, framework etc.\n",
      "INFO:sagemaker:Creating training-job with name: pytorch-training-2023-02-07-07-36-33-620\n",
      "INFO:sagemaker.local.local_session:Starting training job\n",
      "INFO:botocore.credentials:Found credentials from IAM Role: BaseNotebookInstanceEc2InstanceRole\n",
      "INFO:sagemaker.local.image:No AWS credentials found in session but credentials from EC2 Metadata Service are available.\n",
      "INFO:sagemaker.local.image:docker compose file: \n",
      "networks:\n",
      "  sagemaker-local:\n",
      "    name: sagemaker-local\n",
      "services:\n",
      "  algo-1-8jiza:\n",
      "    command: train\n",
      "    container_name: y9o00m0z0o-algo-1-8jiza\n",
      "    deploy:\n",
      "      resources:\n",
      "        reservations:\n",
      "          devices:\n",
      "          - capabilities:\n",
      "            - gpu\n",
      "    environment:\n",
      "    - '[Masked]'\n",
      "    - '[Masked]'\n",
      "    image: 763104351884.dkr.ecr.ap-northeast-2.amazonaws.com/pytorch-training:1.10.0-gpu-py38\n",
      "    networks:\n",
      "      sagemaker-local:\n",
      "        aliases:\n",
      "        - algo-1-8jiza\n",
      "    stdin_open: true\n",
      "    tty: true\n",
      "    volumes:\n",
      "    - /tmp/tmpqvr9v54d/algo-1-8jiza/input:/opt/ml/input\n",
      "    - /tmp/tmpqvr9v54d/algo-1-8jiza/output:/opt/ml/output\n",
      "    - /tmp/tmpqvr9v54d/algo-1-8jiza/output/data:/opt/ml/output/data\n",
      "    - /tmp/tmpqvr9v54d/model:/opt/ml/model\n",
      "    - /opt/ml/metadata:/opt/ml/metadata\n",
      "    - /tmp/tmpfv8i2x11:/opt/ml/input/data/TR\n",
      "version: '2.3'\n",
      "\n",
      "INFO:sagemaker.local.image:docker command: docker-compose -f /tmp/tmpqvr9v54d/docker-compose.yaml up --build --abort-on-container-exit\n",
      "WARNING! Your password will be stored unencrypted in /home/ec2-user/.docker/config.json.\n",
      "Configure a credential helper to remove this warning. See\n",
      "https://docs.docker.com/engine/reference/commandline/login/#credentials-store\n",
      "\n",
      "INFO:sagemaker.local.image:docker command: docker pull 763104351884.dkr.ecr.ap-northeast-2.amazonaws.com/pytorch-training:1.10.0-gpu-py38\n"
     ]
    },
    {
     "name": "stdout",
     "output_type": "stream",
     "text": [
      "Login Succeeded\n"
     ]
    },
    {
     "ename": "KeyboardInterrupt",
     "evalue": "",
     "output_type": "error",
     "traceback": [
      "\u001b[0;31m---------------------------------------------------------------------------\u001b[0m",
      "\u001b[0;31mKeyboardInterrupt\u001b[0m                         Traceback (most recent call last)",
      "\u001b[0;32m/tmp/ipykernel_28489/1889422849.py\u001b[0m in \u001b[0;36m<cell line: 14>\u001b[0;34m()\u001b[0m\n\u001b[1;32m     12\u001b[0m \u001b[0;34m\u001b[0m\u001b[0m\n\u001b[1;32m     13\u001b[0m \u001b[0mstrDataChannel\u001b[0m \u001b[0;34m=\u001b[0m \u001b[0;34m\"TR\"\u001b[0m\u001b[0;34m\u001b[0m\u001b[0;34m\u001b[0m\u001b[0m\n\u001b[0;32m---> 14\u001b[0;31m estimator.fit(\n\u001b[0m\u001b[1;32m     15\u001b[0m     \u001b[0;31m#inputs=pm.get_params(key=strPrefix + \"DATA-PATH\"),\u001b[0m\u001b[0;34m\u001b[0m\u001b[0;34m\u001b[0m\u001b[0m\n\u001b[1;32m     16\u001b[0m     \u001b[0minputs\u001b[0m\u001b[0;34m=\u001b[0m\u001b[0;34m{\u001b[0m\u001b[0mstrDataChannel\u001b[0m\u001b[0;34m:\u001b[0m \u001b[0mpm\u001b[0m\u001b[0;34m.\u001b[0m\u001b[0mget_params\u001b[0m\u001b[0;34m(\u001b[0m\u001b[0mkey\u001b[0m\u001b[0;34m=\u001b[0m\u001b[0mstrPrefix\u001b[0m \u001b[0;34m+\u001b[0m \u001b[0;34m\"DATA-PATH\"\u001b[0m\u001b[0;34m)\u001b[0m\u001b[0;34m}\u001b[0m\u001b[0;34m,\u001b[0m\u001b[0;34m\u001b[0m\u001b[0;34m\u001b[0m\u001b[0m\n",
      "\u001b[0;32m~/anaconda3/envs/pytorch_p39/lib/python3.9/site-packages/sagemaker/workflow/pipeline_context.py\u001b[0m in \u001b[0;36mwrapper\u001b[0;34m(*args, **kwargs)\u001b[0m\n\u001b[1;32m    270\u001b[0m             \u001b[0;32mreturn\u001b[0m \u001b[0m_StepArguments\u001b[0m\u001b[0;34m(\u001b[0m\u001b[0mretrieve_caller_name\u001b[0m\u001b[0;34m(\u001b[0m\u001b[0mself_instance\u001b[0m\u001b[0;34m)\u001b[0m\u001b[0;34m,\u001b[0m \u001b[0mrun_func\u001b[0m\u001b[0;34m,\u001b[0m \u001b[0;34m*\u001b[0m\u001b[0margs\u001b[0m\u001b[0;34m,\u001b[0m \u001b[0;34m**\u001b[0m\u001b[0mkwargs\u001b[0m\u001b[0;34m)\u001b[0m\u001b[0;34m\u001b[0m\u001b[0;34m\u001b[0m\u001b[0m\n\u001b[1;32m    271\u001b[0m \u001b[0;34m\u001b[0m\u001b[0m\n\u001b[0;32m--> 272\u001b[0;31m         \u001b[0;32mreturn\u001b[0m \u001b[0mrun_func\u001b[0m\u001b[0;34m(\u001b[0m\u001b[0;34m*\u001b[0m\u001b[0margs\u001b[0m\u001b[0;34m,\u001b[0m \u001b[0;34m**\u001b[0m\u001b[0mkwargs\u001b[0m\u001b[0;34m)\u001b[0m\u001b[0;34m\u001b[0m\u001b[0;34m\u001b[0m\u001b[0m\n\u001b[0m\u001b[1;32m    273\u001b[0m \u001b[0;34m\u001b[0m\u001b[0m\n\u001b[1;32m    274\u001b[0m     \u001b[0;32mreturn\u001b[0m \u001b[0mwrapper\u001b[0m\u001b[0;34m\u001b[0m\u001b[0;34m\u001b[0m\u001b[0m\n",
      "\u001b[0;32m~/anaconda3/envs/pytorch_p39/lib/python3.9/site-packages/sagemaker/estimator.py\u001b[0m in \u001b[0;36mfit\u001b[0;34m(self, inputs, wait, logs, job_name, experiment_config)\u001b[0m\n\u001b[1;32m   1128\u001b[0m \u001b[0;34m\u001b[0m\u001b[0m\n\u001b[1;32m   1129\u001b[0m         \u001b[0mexperiment_config\u001b[0m \u001b[0;34m=\u001b[0m \u001b[0mcheck_and_get_run_experiment_config\u001b[0m\u001b[0;34m(\u001b[0m\u001b[0mexperiment_config\u001b[0m\u001b[0;34m)\u001b[0m\u001b[0;34m\u001b[0m\u001b[0;34m\u001b[0m\u001b[0m\n\u001b[0;32m-> 1130\u001b[0;31m         \u001b[0mself\u001b[0m\u001b[0;34m.\u001b[0m\u001b[0mlatest_training_job\u001b[0m \u001b[0;34m=\u001b[0m \u001b[0m_TrainingJob\u001b[0m\u001b[0;34m.\u001b[0m\u001b[0mstart_new\u001b[0m\u001b[0;34m(\u001b[0m\u001b[0mself\u001b[0m\u001b[0;34m,\u001b[0m \u001b[0minputs\u001b[0m\u001b[0;34m,\u001b[0m \u001b[0mexperiment_config\u001b[0m\u001b[0;34m)\u001b[0m\u001b[0;34m\u001b[0m\u001b[0;34m\u001b[0m\u001b[0m\n\u001b[0m\u001b[1;32m   1131\u001b[0m         \u001b[0mself\u001b[0m\u001b[0;34m.\u001b[0m\u001b[0mjobs\u001b[0m\u001b[0;34m.\u001b[0m\u001b[0mappend\u001b[0m\u001b[0;34m(\u001b[0m\u001b[0mself\u001b[0m\u001b[0;34m.\u001b[0m\u001b[0mlatest_training_job\u001b[0m\u001b[0;34m)\u001b[0m\u001b[0;34m\u001b[0m\u001b[0;34m\u001b[0m\u001b[0m\n\u001b[1;32m   1132\u001b[0m         \u001b[0;32mif\u001b[0m \u001b[0mwait\u001b[0m\u001b[0;34m:\u001b[0m\u001b[0;34m\u001b[0m\u001b[0;34m\u001b[0m\u001b[0m\n",
      "\u001b[0;32m~/anaconda3/envs/pytorch_p39/lib/python3.9/site-packages/sagemaker/estimator.py\u001b[0m in \u001b[0;36mstart_new\u001b[0;34m(cls, estimator, inputs, experiment_config)\u001b[0m\n\u001b[1;32m   2046\u001b[0m         \u001b[0mtrain_args\u001b[0m \u001b[0;34m=\u001b[0m \u001b[0mcls\u001b[0m\u001b[0;34m.\u001b[0m\u001b[0m_get_train_args\u001b[0m\u001b[0;34m(\u001b[0m\u001b[0mestimator\u001b[0m\u001b[0;34m,\u001b[0m \u001b[0minputs\u001b[0m\u001b[0;34m,\u001b[0m \u001b[0mexperiment_config\u001b[0m\u001b[0;34m)\u001b[0m\u001b[0;34m\u001b[0m\u001b[0;34m\u001b[0m\u001b[0m\n\u001b[1;32m   2047\u001b[0m \u001b[0;34m\u001b[0m\u001b[0m\n\u001b[0;32m-> 2048\u001b[0;31m         \u001b[0mestimator\u001b[0m\u001b[0;34m.\u001b[0m\u001b[0msagemaker_session\u001b[0m\u001b[0;34m.\u001b[0m\u001b[0mtrain\u001b[0m\u001b[0;34m(\u001b[0m\u001b[0;34m**\u001b[0m\u001b[0mtrain_args\u001b[0m\u001b[0;34m)\u001b[0m\u001b[0;34m\u001b[0m\u001b[0;34m\u001b[0m\u001b[0m\n\u001b[0m\u001b[1;32m   2049\u001b[0m \u001b[0;34m\u001b[0m\u001b[0m\n\u001b[1;32m   2050\u001b[0m         \u001b[0;32mreturn\u001b[0m \u001b[0mcls\u001b[0m\u001b[0;34m(\u001b[0m\u001b[0mestimator\u001b[0m\u001b[0;34m.\u001b[0m\u001b[0msagemaker_session\u001b[0m\u001b[0;34m,\u001b[0m \u001b[0mestimator\u001b[0m\u001b[0;34m.\u001b[0m\u001b[0m_current_job_name\u001b[0m\u001b[0;34m)\u001b[0m\u001b[0;34m\u001b[0m\u001b[0;34m\u001b[0m\u001b[0m\n",
      "\u001b[0;32m~/anaconda3/envs/pytorch_p39/lib/python3.9/site-packages/sagemaker/session.py\u001b[0m in \u001b[0;36mtrain\u001b[0;34m(self, input_mode, input_config, role, job_name, output_config, resource_config, vpc_config, hyperparameters, stop_condition, tags, metric_definitions, enable_network_isolation, image_uri, algorithm_arn, encrypt_inter_container_traffic, use_spot_instances, checkpoint_s3_uri, checkpoint_local_path, experiment_config, debugger_rule_configs, debugger_hook_config, tensorboard_output_config, enable_sagemaker_metrics, profiler_rule_configs, profiler_config, environment, retry_strategy)\u001b[0m\n\u001b[1;32m    625\u001b[0m             \u001b[0mself\u001b[0m\u001b[0;34m.\u001b[0m\u001b[0msagemaker_client\u001b[0m\u001b[0;34m.\u001b[0m\u001b[0mcreate_training_job\u001b[0m\u001b[0;34m(\u001b[0m\u001b[0;34m**\u001b[0m\u001b[0mrequest\u001b[0m\u001b[0;34m)\u001b[0m\u001b[0;34m\u001b[0m\u001b[0;34m\u001b[0m\u001b[0m\n\u001b[1;32m    626\u001b[0m \u001b[0;34m\u001b[0m\u001b[0m\n\u001b[0;32m--> 627\u001b[0;31m         \u001b[0mself\u001b[0m\u001b[0;34m.\u001b[0m\u001b[0m_intercept_create_request\u001b[0m\u001b[0;34m(\u001b[0m\u001b[0mtrain_request\u001b[0m\u001b[0;34m,\u001b[0m \u001b[0msubmit\u001b[0m\u001b[0;34m,\u001b[0m \u001b[0mself\u001b[0m\u001b[0;34m.\u001b[0m\u001b[0mtrain\u001b[0m\u001b[0;34m.\u001b[0m\u001b[0m__name__\u001b[0m\u001b[0;34m)\u001b[0m\u001b[0;34m\u001b[0m\u001b[0;34m\u001b[0m\u001b[0m\n\u001b[0m\u001b[1;32m    628\u001b[0m \u001b[0;34m\u001b[0m\u001b[0m\n\u001b[1;32m    629\u001b[0m     def _get_train_request(  # noqa: C901\n",
      "\u001b[0;32m~/anaconda3/envs/pytorch_p39/lib/python3.9/site-packages/sagemaker/session.py\u001b[0m in \u001b[0;36m_intercept_create_request\u001b[0;34m(self, request, create, func_name)\u001b[0m\n\u001b[1;32m   4654\u001b[0m             \u001b[0mfunc_name\u001b[0m \u001b[0;34m(\u001b[0m\u001b[0mstr\u001b[0m\u001b[0;34m)\u001b[0m\u001b[0;34m:\u001b[0m \u001b[0mthe\u001b[0m \u001b[0mname\u001b[0m \u001b[0mof\u001b[0m \u001b[0mthe\u001b[0m \u001b[0mfunction\u001b[0m \u001b[0mneeded\u001b[0m \u001b[0mintercepting\u001b[0m\u001b[0;34m\u001b[0m\u001b[0;34m\u001b[0m\u001b[0m\n\u001b[1;32m   4655\u001b[0m         \"\"\"\n\u001b[0;32m-> 4656\u001b[0;31m         \u001b[0;32mreturn\u001b[0m \u001b[0mcreate\u001b[0m\u001b[0;34m(\u001b[0m\u001b[0mrequest\u001b[0m\u001b[0;34m)\u001b[0m\u001b[0;34m\u001b[0m\u001b[0;34m\u001b[0m\u001b[0m\n\u001b[0m\u001b[1;32m   4657\u001b[0m \u001b[0;34m\u001b[0m\u001b[0m\n\u001b[1;32m   4658\u001b[0m \u001b[0;34m\u001b[0m\u001b[0m\n",
      "\u001b[0;32m~/anaconda3/envs/pytorch_p39/lib/python3.9/site-packages/sagemaker/session.py\u001b[0m in \u001b[0;36msubmit\u001b[0;34m(request)\u001b[0m\n\u001b[1;32m    623\u001b[0m             \u001b[0mLOGGER\u001b[0m\u001b[0;34m.\u001b[0m\u001b[0minfo\u001b[0m\u001b[0;34m(\u001b[0m\u001b[0;34m\"Creating training-job with name: %s\"\u001b[0m\u001b[0;34m,\u001b[0m \u001b[0mjob_name\u001b[0m\u001b[0;34m)\u001b[0m\u001b[0;34m\u001b[0m\u001b[0;34m\u001b[0m\u001b[0m\n\u001b[1;32m    624\u001b[0m             \u001b[0mLOGGER\u001b[0m\u001b[0;34m.\u001b[0m\u001b[0mdebug\u001b[0m\u001b[0;34m(\u001b[0m\u001b[0;34m\"train request: %s\"\u001b[0m\u001b[0;34m,\u001b[0m \u001b[0mjson\u001b[0m\u001b[0;34m.\u001b[0m\u001b[0mdumps\u001b[0m\u001b[0;34m(\u001b[0m\u001b[0mrequest\u001b[0m\u001b[0;34m,\u001b[0m \u001b[0mindent\u001b[0m\u001b[0;34m=\u001b[0m\u001b[0;36m4\u001b[0m\u001b[0;34m)\u001b[0m\u001b[0;34m)\u001b[0m\u001b[0;34m\u001b[0m\u001b[0;34m\u001b[0m\u001b[0m\n\u001b[0;32m--> 625\u001b[0;31m             \u001b[0mself\u001b[0m\u001b[0;34m.\u001b[0m\u001b[0msagemaker_client\u001b[0m\u001b[0;34m.\u001b[0m\u001b[0mcreate_training_job\u001b[0m\u001b[0;34m(\u001b[0m\u001b[0;34m**\u001b[0m\u001b[0mrequest\u001b[0m\u001b[0;34m)\u001b[0m\u001b[0;34m\u001b[0m\u001b[0;34m\u001b[0m\u001b[0m\n\u001b[0m\u001b[1;32m    626\u001b[0m \u001b[0;34m\u001b[0m\u001b[0m\n\u001b[1;32m    627\u001b[0m         \u001b[0mself\u001b[0m\u001b[0;34m.\u001b[0m\u001b[0m_intercept_create_request\u001b[0m\u001b[0;34m(\u001b[0m\u001b[0mtrain_request\u001b[0m\u001b[0;34m,\u001b[0m \u001b[0msubmit\u001b[0m\u001b[0;34m,\u001b[0m \u001b[0mself\u001b[0m\u001b[0;34m.\u001b[0m\u001b[0mtrain\u001b[0m\u001b[0;34m.\u001b[0m\u001b[0m__name__\u001b[0m\u001b[0;34m)\u001b[0m\u001b[0;34m\u001b[0m\u001b[0;34m\u001b[0m\u001b[0m\n",
      "\u001b[0;32m~/anaconda3/envs/pytorch_p39/lib/python3.9/site-packages/sagemaker/local/local_session.py\u001b[0m in \u001b[0;36mcreate_training_job\u001b[0;34m(self, TrainingJobName, AlgorithmSpecification, OutputDataConfig, ResourceConfig, InputDataConfig, Environment, **kwargs)\u001b[0m\n\u001b[1;32m    192\u001b[0m         \u001b[0mhyperparameters\u001b[0m \u001b[0;34m=\u001b[0m \u001b[0mkwargs\u001b[0m\u001b[0;34m[\u001b[0m\u001b[0;34m\"HyperParameters\"\u001b[0m\u001b[0;34m]\u001b[0m \u001b[0;32mif\u001b[0m \u001b[0;34m\"HyperParameters\"\u001b[0m \u001b[0;32min\u001b[0m \u001b[0mkwargs\u001b[0m \u001b[0;32melse\u001b[0m \u001b[0;34m{\u001b[0m\u001b[0;34m}\u001b[0m\u001b[0;34m\u001b[0m\u001b[0;34m\u001b[0m\u001b[0m\n\u001b[1;32m    193\u001b[0m         \u001b[0mlogger\u001b[0m\u001b[0;34m.\u001b[0m\u001b[0minfo\u001b[0m\u001b[0;34m(\u001b[0m\u001b[0;34m\"Starting training job\"\u001b[0m\u001b[0;34m)\u001b[0m\u001b[0;34m\u001b[0m\u001b[0;34m\u001b[0m\u001b[0m\n\u001b[0;32m--> 194\u001b[0;31m         training_job.start(\n\u001b[0m\u001b[1;32m    195\u001b[0m             \u001b[0mInputDataConfig\u001b[0m\u001b[0;34m,\u001b[0m \u001b[0mOutputDataConfig\u001b[0m\u001b[0;34m,\u001b[0m \u001b[0mhyperparameters\u001b[0m\u001b[0;34m,\u001b[0m \u001b[0mEnvironment\u001b[0m\u001b[0;34m,\u001b[0m \u001b[0mTrainingJobName\u001b[0m\u001b[0;34m\u001b[0m\u001b[0;34m\u001b[0m\u001b[0m\n\u001b[1;32m    196\u001b[0m         )\n",
      "\u001b[0;32m~/anaconda3/envs/pytorch_p39/lib/python3.9/site-packages/sagemaker/local/entities.py\u001b[0m in \u001b[0;36mstart\u001b[0;34m(self, input_data_config, output_data_config, hyperparameters, environment, job_name)\u001b[0m\n\u001b[1;32m    241\u001b[0m         \u001b[0mself\u001b[0m\u001b[0;34m.\u001b[0m\u001b[0menvironment\u001b[0m \u001b[0;34m=\u001b[0m \u001b[0menvironment\u001b[0m\u001b[0;34m\u001b[0m\u001b[0;34m\u001b[0m\u001b[0m\n\u001b[1;32m    242\u001b[0m \u001b[0;34m\u001b[0m\u001b[0m\n\u001b[0;32m--> 243\u001b[0;31m         self.model_artifacts = self.container.train(\n\u001b[0m\u001b[1;32m    244\u001b[0m             \u001b[0minput_data_config\u001b[0m\u001b[0;34m,\u001b[0m \u001b[0moutput_data_config\u001b[0m\u001b[0;34m,\u001b[0m \u001b[0mhyperparameters\u001b[0m\u001b[0;34m,\u001b[0m \u001b[0menvironment\u001b[0m\u001b[0;34m,\u001b[0m \u001b[0mjob_name\u001b[0m\u001b[0;34m\u001b[0m\u001b[0;34m\u001b[0m\u001b[0m\n\u001b[1;32m    245\u001b[0m         )\n",
      "\u001b[0;32m~/anaconda3/envs/pytorch_p39/lib/python3.9/site-packages/sagemaker/local/image.py\u001b[0m in \u001b[0;36mtrain\u001b[0;34m(self, input_data_config, output_data_config, hyperparameters, environment, job_name)\u001b[0m\n\u001b[1;32m    239\u001b[0m \u001b[0;34m\u001b[0m\u001b[0m\n\u001b[1;32m    240\u001b[0m         \u001b[0;32mif\u001b[0m \u001b[0m_ecr_login_if_needed\u001b[0m\u001b[0;34m(\u001b[0m\u001b[0mself\u001b[0m\u001b[0;34m.\u001b[0m\u001b[0msagemaker_session\u001b[0m\u001b[0;34m.\u001b[0m\u001b[0mboto_session\u001b[0m\u001b[0;34m,\u001b[0m \u001b[0mself\u001b[0m\u001b[0;34m.\u001b[0m\u001b[0mimage\u001b[0m\u001b[0;34m)\u001b[0m\u001b[0;34m:\u001b[0m\u001b[0;34m\u001b[0m\u001b[0;34m\u001b[0m\u001b[0m\n\u001b[0;32m--> 241\u001b[0;31m             \u001b[0m_pull_image\u001b[0m\u001b[0;34m(\u001b[0m\u001b[0mself\u001b[0m\u001b[0;34m.\u001b[0m\u001b[0mimage\u001b[0m\u001b[0;34m)\u001b[0m\u001b[0;34m\u001b[0m\u001b[0;34m\u001b[0m\u001b[0m\n\u001b[0m\u001b[1;32m    242\u001b[0m \u001b[0;34m\u001b[0m\u001b[0m\n\u001b[1;32m    243\u001b[0m         process = subprocess.Popen(\n",
      "\u001b[0;32m~/anaconda3/envs/pytorch_p39/lib/python3.9/site-packages/sagemaker/local/image.py\u001b[0m in \u001b[0;36m_pull_image\u001b[0;34m(image)\u001b[0m\n\u001b[1;32m   1117\u001b[0m     \u001b[0mlogger\u001b[0m\u001b[0;34m.\u001b[0m\u001b[0minfo\u001b[0m\u001b[0;34m(\u001b[0m\u001b[0;34m\"docker command: %s\"\u001b[0m\u001b[0;34m,\u001b[0m \u001b[0mpull_image_command\u001b[0m\u001b[0;34m)\u001b[0m\u001b[0;34m\u001b[0m\u001b[0;34m\u001b[0m\u001b[0m\n\u001b[1;32m   1118\u001b[0m \u001b[0;34m\u001b[0m\u001b[0m\n\u001b[0;32m-> 1119\u001b[0;31m     \u001b[0msubprocess\u001b[0m\u001b[0;34m.\u001b[0m\u001b[0mcheck_output\u001b[0m\u001b[0;34m(\u001b[0m\u001b[0mpull_image_command\u001b[0m\u001b[0;34m.\u001b[0m\u001b[0msplit\u001b[0m\u001b[0;34m(\u001b[0m\u001b[0;34m)\u001b[0m\u001b[0;34m)\u001b[0m\u001b[0;34m\u001b[0m\u001b[0;34m\u001b[0m\u001b[0m\n\u001b[0m\u001b[1;32m   1120\u001b[0m     \u001b[0mlogger\u001b[0m\u001b[0;34m.\u001b[0m\u001b[0minfo\u001b[0m\u001b[0;34m(\u001b[0m\u001b[0;34m\"image pulled: %s\"\u001b[0m\u001b[0;34m,\u001b[0m \u001b[0mimage\u001b[0m\u001b[0;34m)\u001b[0m\u001b[0;34m\u001b[0m\u001b[0;34m\u001b[0m\u001b[0m\n",
      "\u001b[0;32m~/anaconda3/envs/pytorch_p39/lib/python3.9/subprocess.py\u001b[0m in \u001b[0;36mcheck_output\u001b[0;34m(timeout, *popenargs, **kwargs)\u001b[0m\n\u001b[1;32m    422\u001b[0m         \u001b[0mkwargs\u001b[0m\u001b[0;34m[\u001b[0m\u001b[0;34m'input'\u001b[0m\u001b[0;34m]\u001b[0m \u001b[0;34m=\u001b[0m \u001b[0mempty\u001b[0m\u001b[0;34m\u001b[0m\u001b[0;34m\u001b[0m\u001b[0m\n\u001b[1;32m    423\u001b[0m \u001b[0;34m\u001b[0m\u001b[0m\n\u001b[0;32m--> 424\u001b[0;31m     return run(*popenargs, stdout=PIPE, timeout=timeout, check=True,\n\u001b[0m\u001b[1;32m    425\u001b[0m                **kwargs).stdout\n\u001b[1;32m    426\u001b[0m \u001b[0;34m\u001b[0m\u001b[0m\n",
      "\u001b[0;32m~/anaconda3/envs/pytorch_p39/lib/python3.9/subprocess.py\u001b[0m in \u001b[0;36mrun\u001b[0;34m(input, capture_output, timeout, check, *popenargs, **kwargs)\u001b[0m\n\u001b[1;32m    505\u001b[0m     \u001b[0;32mwith\u001b[0m \u001b[0mPopen\u001b[0m\u001b[0;34m(\u001b[0m\u001b[0;34m*\u001b[0m\u001b[0mpopenargs\u001b[0m\u001b[0;34m,\u001b[0m \u001b[0;34m**\u001b[0m\u001b[0mkwargs\u001b[0m\u001b[0;34m)\u001b[0m \u001b[0;32mas\u001b[0m \u001b[0mprocess\u001b[0m\u001b[0;34m:\u001b[0m\u001b[0;34m\u001b[0m\u001b[0;34m\u001b[0m\u001b[0m\n\u001b[1;32m    506\u001b[0m         \u001b[0;32mtry\u001b[0m\u001b[0;34m:\u001b[0m\u001b[0;34m\u001b[0m\u001b[0;34m\u001b[0m\u001b[0m\n\u001b[0;32m--> 507\u001b[0;31m             \u001b[0mstdout\u001b[0m\u001b[0;34m,\u001b[0m \u001b[0mstderr\u001b[0m \u001b[0;34m=\u001b[0m \u001b[0mprocess\u001b[0m\u001b[0;34m.\u001b[0m\u001b[0mcommunicate\u001b[0m\u001b[0;34m(\u001b[0m\u001b[0minput\u001b[0m\u001b[0;34m,\u001b[0m \u001b[0mtimeout\u001b[0m\u001b[0;34m=\u001b[0m\u001b[0mtimeout\u001b[0m\u001b[0;34m)\u001b[0m\u001b[0;34m\u001b[0m\u001b[0;34m\u001b[0m\u001b[0m\n\u001b[0m\u001b[1;32m    508\u001b[0m         \u001b[0;32mexcept\u001b[0m \u001b[0mTimeoutExpired\u001b[0m \u001b[0;32mas\u001b[0m \u001b[0mexc\u001b[0m\u001b[0;34m:\u001b[0m\u001b[0;34m\u001b[0m\u001b[0;34m\u001b[0m\u001b[0m\n\u001b[1;32m    509\u001b[0m             \u001b[0mprocess\u001b[0m\u001b[0;34m.\u001b[0m\u001b[0mkill\u001b[0m\u001b[0;34m(\u001b[0m\u001b[0;34m)\u001b[0m\u001b[0;34m\u001b[0m\u001b[0;34m\u001b[0m\u001b[0m\n",
      "\u001b[0;32m~/anaconda3/envs/pytorch_p39/lib/python3.9/subprocess.py\u001b[0m in \u001b[0;36mcommunicate\u001b[0;34m(self, input, timeout)\u001b[0m\n\u001b[1;32m   1119\u001b[0m                 \u001b[0mself\u001b[0m\u001b[0;34m.\u001b[0m\u001b[0m_stdin_write\u001b[0m\u001b[0;34m(\u001b[0m\u001b[0minput\u001b[0m\u001b[0;34m)\u001b[0m\u001b[0;34m\u001b[0m\u001b[0;34m\u001b[0m\u001b[0m\n\u001b[1;32m   1120\u001b[0m             \u001b[0;32melif\u001b[0m \u001b[0mself\u001b[0m\u001b[0;34m.\u001b[0m\u001b[0mstdout\u001b[0m\u001b[0;34m:\u001b[0m\u001b[0;34m\u001b[0m\u001b[0;34m\u001b[0m\u001b[0m\n\u001b[0;32m-> 1121\u001b[0;31m                 \u001b[0mstdout\u001b[0m \u001b[0;34m=\u001b[0m \u001b[0mself\u001b[0m\u001b[0;34m.\u001b[0m\u001b[0mstdout\u001b[0m\u001b[0;34m.\u001b[0m\u001b[0mread\u001b[0m\u001b[0;34m(\u001b[0m\u001b[0;34m)\u001b[0m\u001b[0;34m\u001b[0m\u001b[0;34m\u001b[0m\u001b[0m\n\u001b[0m\u001b[1;32m   1122\u001b[0m                 \u001b[0mself\u001b[0m\u001b[0;34m.\u001b[0m\u001b[0mstdout\u001b[0m\u001b[0;34m.\u001b[0m\u001b[0mclose\u001b[0m\u001b[0;34m(\u001b[0m\u001b[0;34m)\u001b[0m\u001b[0;34m\u001b[0m\u001b[0;34m\u001b[0m\u001b[0m\n\u001b[1;32m   1123\u001b[0m             \u001b[0;32melif\u001b[0m \u001b[0mself\u001b[0m\u001b[0;34m.\u001b[0m\u001b[0mstderr\u001b[0m\u001b[0;34m:\u001b[0m\u001b[0;34m\u001b[0m\u001b[0;34m\u001b[0m\u001b[0m\n",
      "\u001b[0;31mKeyboardInterrupt\u001b[0m: "
     ]
    }
   ],
   "source": [
    "estimator = PyTorch(\n",
    "    source_dir=\"./source\",\n",
    "    entry_point=\"cifar10.py\",\n",
    "    role=pm.get_params(key=strPrefix + \"SAGEMAKER-ROLE-ARN\"),\n",
    "    framework_version=\"1.10.0\",\n",
    "    py_version=\"py38\",\n",
    "    instance_count=1,\n",
    "    #instance_type=\"ml.g4dn.xlarge\",\n",
    "    instance_type=\"local_gpu\",\n",
    "    output_path=f\"s3://{pm.get_params(key=strPrefix + 'BUCKET')}/{'byom-model-output'}\",\n",
    ")\n",
    "\n",
    "strDataChannel = \"TR\"\n",
    "estimator.fit(\n",
    "    #inputs=pm.get_params(key=strPrefix + \"DATA-PATH\"),\n",
    "    inputs={strDataChannel: pm.get_params(key=strPrefix + \"DATA-PATH\")},\n",
    "    wait=True,\n",
    ")"
   ]
  },
  {
   "cell_type": "markdown",
   "id": "a505d75e-b59c-47e4-88d7-8a222419580c",
   "metadata": {},
   "source": [
    "### 2.1 with custom image"
   ]
  },
  {
   "cell_type": "markdown",
   "id": "6b8cb149-a4ee-4567-b1a4-dc8db096b804",
   "metadata": {},
   "source": [
    "#### 2.2.1. Build a docker and Register the image to ECR "
   ]
  },
  {
   "cell_type": "code",
   "execution_count": 84,
   "id": "65c40a2c-b2bf-4ca5-aeab-2a618e1af448",
   "metadata": {},
   "outputs": [],
   "source": [
    "import boto3\n",
    "from utils.ecr import ecr_handler"
   ]
  },
  {
   "cell_type": "code",
   "execution_count": 85,
   "id": "775eb7ed-c375-4bb2-964e-993cf86740f3",
   "metadata": {},
   "outputs": [],
   "source": [
    "ecr = ecr_handler()"
   ]
  },
  {
   "cell_type": "code",
   "execution_count": 86,
   "id": "719b288c-f1e6-4480-84d3-e20a352ee066",
   "metadata": {},
   "outputs": [
    {
     "name": "stdout",
     "output_type": "stream",
     "text": [
      "\u001b[34mFROM\u001b[39;49;00m\u001b[37m \u001b[39;49;00m\u001b[33mpytorch/pytorch:1.4-cuda10.1-cudnn7-devel\u001b[39;49;00m\n",
      "\n",
      "\u001b[34mRUN\u001b[39;49;00m\u001b[37m \u001b[39;49;00mpython3 -m pip install --upgrade pip\n",
      "\u001b[34mRUN\u001b[39;49;00m\u001b[37m \u001b[39;49;00mpip3 install pyOpenSSL --upgrade\n",
      "\u001b[34mRUN\u001b[39;49;00m\u001b[37m \u001b[39;49;00mpip3 install sagemaker-training\n",
      "\n",
      "\u001b[37m# Copies the training code inside the container\u001b[39;49;00m\n",
      "\u001b[34mCOPY\u001b[39;49;00m\u001b[37m \u001b[39;49;00m./code /opt/ml/code\n",
      "\u001b[34mWORKDIR\u001b[39;49;00m\u001b[37m \u001b[39;49;00m\u001b[33m/opt/ml/code\u001b[39;49;00m\n",
      "\n",
      "\u001b[37m# Defines train.py as script entrypoint\u001b[39;49;00m\n",
      "\u001b[34mENV\u001b[39;49;00m\u001b[37m \u001b[39;49;00mSAGEMAKER_PROGRAM cifar10.py\n",
      "\u001b[34mENV\u001b[39;49;00m\u001b[37m \u001b[39;49;00mPYTHONUNBUFFERED TRUE\n"
     ]
    }
   ],
   "source": [
    "! pygmentize docker/Dockerfile"
   ]
  },
  {
   "cell_type": "code",
   "execution_count": 87,
   "id": "35872858-ac49-4aac-b7e8-169a8d245797",
   "metadata": {},
   "outputs": [],
   "source": [
    "strRepositoryName = strPrefix + \"pytorch-container\"\n",
    "strRepositoryName = strRepositoryName.lower()\n",
    "strDockerDir = \"./docker/\"\n",
    "strTag = \":latest\"\n",
    "strRegionName=pm.get_params(key=strPrefix + \"REGION\")\n",
    "strAccountId=pm.get_params(key=strPrefix + \"ACCOUNT-ID\")  "
   ]
  },
  {
   "cell_type": "code",
   "execution_count": 88,
   "id": "ed367ff0-0a64-4b25-bf55-ec633fe7b241",
   "metadata": {
    "tags": []
   },
   "outputs": [
    {
     "name": "stdout",
     "output_type": "stream",
     "text": [
      "/home/ec2-user/SageMaker/bring-your-own-model\n",
      "/home/ec2-user/SageMaker/bring-your-own-model/docker\n",
      "Sending build context to Docker daemon  22.02kB\n",
      "\n",
      "Step 1/8 : FROM pytorch/pytorch:1.4-cuda10.1-cudnn7-devel\n",
      " ---> 76c152fbfd03\n",
      "Step 2/8 : RUN python3 -m pip install --upgrade pip\n",
      " ---> Using cache\n",
      " ---> 3e6cda4f983f\n",
      "Step 3/8 : RUN pip3 install pyOpenSSL --upgrade\n",
      " ---> Using cache\n",
      " ---> 9a19fc10d7b0\n",
      "Step 4/8 : RUN pip3 install sagemaker-training\n",
      " ---> Using cache\n",
      " ---> 0b5306eea8bd\n",
      "Step 5/8 : COPY ./code /opt/ml/code\n",
      " ---> Using cache\n",
      " ---> 33518b6490fd\n",
      "Step 6/8 : WORKDIR /opt/ml/code\n",
      " ---> Using cache\n",
      " ---> 470f0a5751a1\n",
      "Step 7/8 : ENV SAGEMAKER_PROGRAM cifar10.py\n",
      " ---> Using cache\n",
      " ---> c9f840cf58f4\n",
      "Step 8/8 : ENV PYTHONUNBUFFERED TRUE\n",
      " ---> Using cache\n",
      " ---> 7752acff6c9d\n",
      "Successfully built 7752acff6c9d\n",
      "Successfully tagged sm-byom-pytorch-container:latest\n",
      "\n",
      "/home/ec2-user/SageMaker/bring-your-own-model\n"
     ]
    }
   ],
   "source": [
    "ecr.build_docker(strDockerDir, strRepositoryName)"
   ]
  },
  {
   "cell_type": "code",
   "execution_count": 89,
   "id": "04b31962-527d-4ff5-9a19-6d9ababa179b",
   "metadata": {},
   "outputs": [
    {
     "name": "stdout",
     "output_type": "stream",
     "text": [
      "== REGISTER AN IMAGE TO ECR ==\n",
      "  processing_repository_uri: 419974056037.dkr.ecr.ap-northeast-2.amazonaws.com/sm-byom-pytorch-container:latest\n",
      "aws ecr get-login --region 'ap-northeast-2' --registry-ids '419974056037' --no-include-email\n"
     ]
    },
    {
     "name": "stderr",
     "output_type": "stream",
     "text": [
      "WARNING! Using --password via the CLI is insecure. Use --password-stdin.\n",
      "WARNING! Your password will be stored unencrypted in /home/ec2-user/.docker/config.json.\n",
      "Configure a credential helper to remove this warning. See\n",
      "https://docs.docker.com/engine/reference/commandline/login/#credentials-store\n",
      "\n"
     ]
    },
    {
     "name": "stdout",
     "output_type": "stream",
     "text": [
      "Login Succeeded\n",
      "\n",
      "aws ecr create-repository --repository-name 'sm-byom-pytorch-container'\n"
     ]
    },
    {
     "name": "stderr",
     "output_type": "stream",
     "text": [
      "\n",
      "An error occurred (RepositoryAlreadyExistsException) when calling the CreateRepository operation: The repository with name 'sm-byom-pytorch-container' already exists in the registry with id '419974056037'\n"
     ]
    },
    {
     "name": "stdout",
     "output_type": "stream",
     "text": [
      "docker tag 'sm-byom-pytorch-container:latest' '419974056037.dkr.ecr.ap-northeast-2.amazonaws.com/sm-byom-pytorch-container:latest'\n",
      "docker push '419974056037.dkr.ecr.ap-northeast-2.amazonaws.com/sm-byom-pytorch-container:latest'\n",
      "== REGISTER AN IMAGE TO ECR ==\n",
      "==============================\n"
     ]
    },
    {
     "data": {
      "text/plain": [
       "'Store suceess'"
      ]
     },
     "execution_count": 89,
     "metadata": {},
     "output_type": "execute_result"
    }
   ],
   "source": [
    "strEcrRepositoryUri = ecr.register_image_to_ecr(strRegionName, strAccountId, strRepositoryName, strTag)\n",
    "pm.put_params(key=strPrefix + \"PYTORCH-ECR-URI\", value=strEcrRepositoryUri, overwrite=True)"
   ]
  },
  {
   "cell_type": "markdown",
   "id": "6d6ee5f7-e9d8-4506-9ce0-1252eadbcfc1",
   "metadata": {},
   "source": [
    "#### 2.2.2. Train model with the custom image\n",
    "* https://docs.aws.amazon.com/sagemaker/latest/dg/adapt-training-container.html#:%7E:text=Step%202%3A%20Create%20and%20upload%20the%20Dockerfile%20and%20Python%20training%20scripts"
   ]
  },
  {
   "cell_type": "code",
   "execution_count": 90,
   "id": "b22ca55c-5b94-4eb7-919b-00224db7876a",
   "metadata": {},
   "outputs": [],
   "source": [
    "from distutils.dir_util import copy_tree\n",
    "from sagemaker.estimator import Estimator"
   ]
  },
  {
   "cell_type": "code",
   "execution_count": 91,
   "id": "af5842fb-54f6-4b49-8289-e5311ebd7efd",
   "metadata": {},
   "outputs": [
    {
     "data": {
      "text/plain": [
       "['./docker/code/.ipynb_checkpoints/cifar10-checkpoint.py',\n",
       " './docker/code/.ipynb_checkpoints/requirements-checkpoint.txt',\n",
       " './docker/code/requirements.txt',\n",
       " './docker/code/cifar10.py']"
      ]
     },
     "execution_count": 91,
     "metadata": {},
     "output_type": "execute_result"
    }
   ],
   "source": [
    "copy_tree(\"./source\", \"./docker/code\")"
   ]
  },
  {
   "cell_type": "code",
   "execution_count": 92,
   "id": "9c66e7fb-8e47-4d97-aa37-b27a79063aed",
   "metadata": {},
   "outputs": [],
   "source": [
    "estimator=Estimator(\n",
    "    image_uri=pm.get_params(key=strPrefix + \"PYTORCH-ECR-URI\"),\n",
    "    role=pm.get_params(key=strPrefix + \"SAGEMAKER-ROLE-ARN\"), \n",
    "    instance_count=1,\n",
    "    #instance_type=\"ml.g4dn.xlarge\",\n",
    "    instance_type=\"local_gpu\",\n",
    "    volume_size=30,\n",
    "    max_run=360000,\n",
    "    input_mode= 'File',\n",
    "    output_path=f\"s3://{pm.get_params(key=strPrefix + 'BUCKET')}/{'byom-model-output'}\"\n",
    "    #sagemaker_session=self.pipeline_session ## add\n",
    ")"
   ]
  },
  {
   "cell_type": "code",
   "execution_count": null,
   "id": "918faef4-d289-4533-a9db-8d404421161c",
   "metadata": {
    "tags": []
   },
   "outputs": [
    {
     "name": "stderr",
     "output_type": "stream",
     "text": [
      "INFO:sagemaker:Creating training-job with name: sm-byom-pytorch-container-2023-02-07-07-51-20-184\n",
      "INFO:sagemaker.local.local_session:Starting training job\n",
      "INFO:botocore.credentials:Found credentials from IAM Role: BaseNotebookInstanceEc2InstanceRole\n",
      "INFO:botocore.credentials:Found credentials from IAM Role: BaseNotebookInstanceEc2InstanceRole\n",
      "INFO:sagemaker.local.image:No AWS credentials found in session but credentials from EC2 Metadata Service are available.\n",
      "INFO:sagemaker.local.image:docker compose file: \n",
      "networks:\n",
      "  sagemaker-local:\n",
      "    name: sagemaker-local\n",
      "services:\n",
      "  algo-1-axxbt:\n",
      "    command: train\n",
      "    container_name: s2ul0rjqso-algo-1-axxbt\n",
      "    deploy:\n",
      "      resources:\n",
      "        reservations:\n",
      "          devices:\n",
      "          - capabilities:\n",
      "            - gpu\n",
      "    environment:\n",
      "    - '[Masked]'\n",
      "    - '[Masked]'\n",
      "    image: 419974056037.dkr.ecr.ap-northeast-2.amazonaws.com/sm-byom-pytorch-container:latest\n",
      "    networks:\n",
      "      sagemaker-local:\n",
      "        aliases:\n",
      "        - algo-1-axxbt\n",
      "    stdin_open: true\n",
      "    tty: true\n",
      "    volumes:\n",
      "    - /tmp/tmpk6dwint4/algo-1-axxbt/input:/opt/ml/input\n",
      "    - /tmp/tmpk6dwint4/algo-1-axxbt/output:/opt/ml/output\n",
      "    - /tmp/tmpk6dwint4/algo-1-axxbt/output/data:/opt/ml/output/data\n",
      "    - /tmp/tmpk6dwint4/model:/opt/ml/model\n",
      "    - /opt/ml/metadata:/opt/ml/metadata\n",
      "    - /tmp/tmpcea07szg:/opt/ml/input/data/TR\n",
      "version: '2.3'\n",
      "\n",
      "INFO:sagemaker.local.image:docker command: docker-compose -f /tmp/tmpk6dwint4/docker-compose.yaml up --build --abort-on-container-exit\n"
     ]
    },
    {
     "name": "stdout",
     "output_type": "stream",
     "text": [
      "Creating s2ul0rjqso-algo-1-axxbt ... \n",
      "Creating s2ul0rjqso-algo-1-axxbt ... done\n",
      "Attaching to s2ul0rjqso-algo-1-axxbt\n",
      "\u001b[36ms2ul0rjqso-algo-1-axxbt |\u001b[0m 2023-02-07 07:51:23,120 sagemaker-training-toolkit INFO     Installing dependencies from requirements.txt:\n",
      "\u001b[36ms2ul0rjqso-algo-1-axxbt |\u001b[0m /opt/conda/bin/python3 -m pip install -r requirements.txt\n",
      "\u001b[36ms2ul0rjqso-algo-1-axxbt |\u001b[0m Collecting pandas\n",
      "\u001b[36ms2ul0rjqso-algo-1-axxbt |\u001b[0m   Downloading pandas-1.3.5-cp37-cp37m-manylinux_2_17_x86_64.manylinux2014_x86_64.whl (11.3 MB)\n",
      "\u001b[2K     \u001b[90m━━━━━━━━━━━━━━━━━━━━━━━━━━━━━━━━━━━━━━━\u001b[0m \u001b[32m11.3/11.3 MB\u001b[0m \u001b[31m100.1 MB/s\u001b[0m eta \u001b[36m0:00:00\u001b[0m00:01\u001b[0m00:01\u001b[0m:--:--\u001b[0m\n",
      "\u001b[36ms2ul0rjqso-algo-1-axxbt |\u001b[0m \u001b[?25hRequirement already satisfied: python-dateutil>=2.7.3 in /opt/conda/lib/python3.7/site-packages (from pandas->-r requirements.txt (line 1)) (2.8.2)\n",
      "\u001b[36ms2ul0rjqso-algo-1-axxbt |\u001b[0m Requirement already satisfied: numpy>=1.17.3 in /opt/conda/lib/python3.7/site-packages (from pandas->-r requirements.txt (line 1)) (1.17.4)\n",
      "\u001b[36ms2ul0rjqso-algo-1-axxbt |\u001b[0m Requirement already satisfied: pytz>=2017.3 in /opt/conda/lib/python3.7/site-packages (from pandas->-r requirements.txt (line 1)) (2019.3)\n",
      "\u001b[36ms2ul0rjqso-algo-1-axxbt |\u001b[0m Requirement already satisfied: six>=1.5 in /opt/conda/lib/python3.7/site-packages (from python-dateutil>=2.7.3->pandas->-r requirements.txt (line 1)) (1.12.0)\n",
      "\u001b[36ms2ul0rjqso-algo-1-axxbt |\u001b[0m Installing collected packages: pandas\n",
      "\u001b[36ms2ul0rjqso-algo-1-axxbt |\u001b[0m Successfully installed pandas-1.3.5\n",
      "\u001b[36ms2ul0rjqso-algo-1-axxbt |\u001b[0m \u001b[33mWARNING: Running pip as the 'root' user can result in broken permissions and conflicting behaviour with the system package manager. It is recommended to use a virtual environment instead: https://pip.pypa.io/warnings/venv\u001b[0m\u001b[33m\n",
      "\u001b[36ms2ul0rjqso-algo-1-axxbt |\u001b[0m \u001b[0m2023-02-07 07:51:27,331 sagemaker-training-toolkit INFO     No Neurons detected (normal if no neurons installed)\n",
      "\u001b[36ms2ul0rjqso-algo-1-axxbt |\u001b[0m 2023-02-07 07:51:27,354 sagemaker-training-toolkit INFO     instance_groups entry not present in resource_config\n",
      "\u001b[36ms2ul0rjqso-algo-1-axxbt |\u001b[0m 2023-02-07 07:51:27,381 sagemaker-training-toolkit INFO     No Neurons detected (normal if no neurons installed)\n",
      "\u001b[36ms2ul0rjqso-algo-1-axxbt |\u001b[0m 2023-02-07 07:51:27,390 sagemaker-training-toolkit INFO     instance_groups entry not present in resource_config\n",
      "\u001b[36ms2ul0rjqso-algo-1-axxbt |\u001b[0m 2023-02-07 07:51:27,413 sagemaker-training-toolkit INFO     No Neurons detected (normal if no neurons installed)\n",
      "\u001b[36ms2ul0rjqso-algo-1-axxbt |\u001b[0m 2023-02-07 07:51:27,422 sagemaker-training-toolkit INFO     instance_groups entry not present in resource_config\n",
      "\u001b[36ms2ul0rjqso-algo-1-axxbt |\u001b[0m 2023-02-07 07:51:27,424 sagemaker-training-toolkit INFO     Invoking user script\n",
      "\u001b[36ms2ul0rjqso-algo-1-axxbt |\u001b[0m \n",
      "\u001b[36ms2ul0rjqso-algo-1-axxbt |\u001b[0m Training Env:\n",
      "\u001b[36ms2ul0rjqso-algo-1-axxbt |\u001b[0m \n",
      "\u001b[36ms2ul0rjqso-algo-1-axxbt |\u001b[0m {\n",
      "\u001b[36ms2ul0rjqso-algo-1-axxbt |\u001b[0m     \"additional_framework_parameters\": {},\n",
      "\u001b[36ms2ul0rjqso-algo-1-axxbt |\u001b[0m     \"channel_input_dirs\": {\n",
      "\u001b[36ms2ul0rjqso-algo-1-axxbt |\u001b[0m         \"TR\": \"/opt/ml/input/data/TR\"\n",
      "\u001b[36ms2ul0rjqso-algo-1-axxbt |\u001b[0m     },\n",
      "\u001b[36ms2ul0rjqso-algo-1-axxbt |\u001b[0m     \"current_host\": \"algo-1-axxbt\",\n",
      "\u001b[36ms2ul0rjqso-algo-1-axxbt |\u001b[0m     \"current_instance_group\": \"homogeneousCluster\",\n",
      "\u001b[36ms2ul0rjqso-algo-1-axxbt |\u001b[0m     \"current_instance_group_hosts\": [],\n",
      "\u001b[36ms2ul0rjqso-algo-1-axxbt |\u001b[0m     \"current_instance_type\": \"local\",\n",
      "\u001b[36ms2ul0rjqso-algo-1-axxbt |\u001b[0m     \"distribution_hosts\": [\n",
      "\u001b[36ms2ul0rjqso-algo-1-axxbt |\u001b[0m         \"algo-1-axxbt\"\n",
      "\u001b[36ms2ul0rjqso-algo-1-axxbt |\u001b[0m     ],\n",
      "\u001b[36ms2ul0rjqso-algo-1-axxbt |\u001b[0m     \"distribution_instance_groups\": [],\n",
      "\u001b[36ms2ul0rjqso-algo-1-axxbt |\u001b[0m     \"framework_module\": null,\n",
      "\u001b[36ms2ul0rjqso-algo-1-axxbt |\u001b[0m     \"hosts\": [\n",
      "\u001b[36ms2ul0rjqso-algo-1-axxbt |\u001b[0m         \"algo-1-axxbt\"\n",
      "\u001b[36ms2ul0rjqso-algo-1-axxbt |\u001b[0m     ],\n",
      "\u001b[36ms2ul0rjqso-algo-1-axxbt |\u001b[0m     \"hyperparameters\": {},\n",
      "\u001b[36ms2ul0rjqso-algo-1-axxbt |\u001b[0m     \"input_config_dir\": \"/opt/ml/input/config\",\n",
      "\u001b[36ms2ul0rjqso-algo-1-axxbt |\u001b[0m     \"input_data_config\": {\n",
      "\u001b[36ms2ul0rjqso-algo-1-axxbt |\u001b[0m         \"TR\": {\n",
      "\u001b[36ms2ul0rjqso-algo-1-axxbt |\u001b[0m             \"TrainingInputMode\": \"File\"\n",
      "\u001b[36ms2ul0rjqso-algo-1-axxbt |\u001b[0m         }\n",
      "\u001b[36ms2ul0rjqso-algo-1-axxbt |\u001b[0m     },\n",
      "\u001b[36ms2ul0rjqso-algo-1-axxbt |\u001b[0m     \"input_dir\": \"/opt/ml/input\",\n",
      "\u001b[36ms2ul0rjqso-algo-1-axxbt |\u001b[0m     \"instance_groups\": [],\n",
      "\u001b[36ms2ul0rjqso-algo-1-axxbt |\u001b[0m     \"instance_groups_dict\": {},\n",
      "\u001b[36ms2ul0rjqso-algo-1-axxbt |\u001b[0m     \"is_hetero\": false,\n",
      "\u001b[36ms2ul0rjqso-algo-1-axxbt |\u001b[0m     \"is_master\": true,\n",
      "\u001b[36ms2ul0rjqso-algo-1-axxbt |\u001b[0m     \"is_modelparallel_enabled\": null,\n",
      "\u001b[36ms2ul0rjqso-algo-1-axxbt |\u001b[0m     \"is_smddpmprun_installed\": false,\n",
      "\u001b[36ms2ul0rjqso-algo-1-axxbt |\u001b[0m     \"job_name\": \"sm-byom-pytorch-container-2023-02-07-07-51-20-184\",\n",
      "\u001b[36ms2ul0rjqso-algo-1-axxbt |\u001b[0m     \"log_level\": 20,\n",
      "\u001b[36ms2ul0rjqso-algo-1-axxbt |\u001b[0m     \"master_hostname\": \"algo-1-axxbt\",\n",
      "\u001b[36ms2ul0rjqso-algo-1-axxbt |\u001b[0m     \"model_dir\": \"/opt/ml/model\",\n",
      "\u001b[36ms2ul0rjqso-algo-1-axxbt |\u001b[0m     \"module_dir\": \"/opt/ml/code\",\n",
      "\u001b[36ms2ul0rjqso-algo-1-axxbt |\u001b[0m     \"module_name\": \"cifar10\",\n",
      "\u001b[36ms2ul0rjqso-algo-1-axxbt |\u001b[0m     \"network_interface_name\": \"eth0\",\n",
      "\u001b[36ms2ul0rjqso-algo-1-axxbt |\u001b[0m     \"num_cpus\": 8,\n",
      "\u001b[36ms2ul0rjqso-algo-1-axxbt |\u001b[0m     \"num_gpus\": 1,\n",
      "\u001b[36ms2ul0rjqso-algo-1-axxbt |\u001b[0m     \"num_neurons\": 0,\n",
      "\u001b[36ms2ul0rjqso-algo-1-axxbt |\u001b[0m     \"output_data_dir\": \"/opt/ml/output/data\",\n",
      "\u001b[36ms2ul0rjqso-algo-1-axxbt |\u001b[0m     \"output_dir\": \"/opt/ml/output\",\n",
      "\u001b[36ms2ul0rjqso-algo-1-axxbt |\u001b[0m     \"output_intermediate_dir\": \"/opt/ml/output/intermediate\",\n",
      "\u001b[36ms2ul0rjqso-algo-1-axxbt |\u001b[0m     \"resource_config\": {\n",
      "\u001b[36ms2ul0rjqso-algo-1-axxbt |\u001b[0m         \"current_host\": \"algo-1-axxbt\",\n",
      "\u001b[36ms2ul0rjqso-algo-1-axxbt |\u001b[0m         \"hosts\": [\n",
      "\u001b[36ms2ul0rjqso-algo-1-axxbt |\u001b[0m             \"algo-1-axxbt\"\n",
      "\u001b[36ms2ul0rjqso-algo-1-axxbt |\u001b[0m         ]\n",
      "\u001b[36ms2ul0rjqso-algo-1-axxbt |\u001b[0m     },\n",
      "\u001b[36ms2ul0rjqso-algo-1-axxbt |\u001b[0m     \"user_entry_point\": \"cifar10.py\"\n",
      "\u001b[36ms2ul0rjqso-algo-1-axxbt |\u001b[0m }\n",
      "\u001b[36ms2ul0rjqso-algo-1-axxbt |\u001b[0m \n",
      "\u001b[36ms2ul0rjqso-algo-1-axxbt |\u001b[0m Environment variables:\n",
      "\u001b[36ms2ul0rjqso-algo-1-axxbt |\u001b[0m \n",
      "\u001b[36ms2ul0rjqso-algo-1-axxbt |\u001b[0m SM_HOSTS=[\"algo-1-axxbt\"]\n",
      "\u001b[36ms2ul0rjqso-algo-1-axxbt |\u001b[0m SM_NETWORK_INTERFACE_NAME=eth0\n",
      "\u001b[36ms2ul0rjqso-algo-1-axxbt |\u001b[0m SM_HPS={}\n",
      "\u001b[36ms2ul0rjqso-algo-1-axxbt |\u001b[0m SM_USER_ENTRY_POINT=cifar10.py\n",
      "\u001b[36ms2ul0rjqso-algo-1-axxbt |\u001b[0m SM_FRAMEWORK_PARAMS={}\n",
      "\u001b[36ms2ul0rjqso-algo-1-axxbt |\u001b[0m SM_RESOURCE_CONFIG={\"current_host\":\"algo-1-axxbt\",\"hosts\":[\"algo-1-axxbt\"]}\n",
      "\u001b[36ms2ul0rjqso-algo-1-axxbt |\u001b[0m SM_INPUT_DATA_CONFIG={\"TR\":{\"TrainingInputMode\":\"File\"}}\n",
      "\u001b[36ms2ul0rjqso-algo-1-axxbt |\u001b[0m SM_OUTPUT_DATA_DIR=/opt/ml/output/data\n",
      "\u001b[36ms2ul0rjqso-algo-1-axxbt |\u001b[0m SM_CHANNELS=[\"TR\"]\n",
      "\u001b[36ms2ul0rjqso-algo-1-axxbt |\u001b[0m SM_CURRENT_HOST=algo-1-axxbt\n",
      "\u001b[36ms2ul0rjqso-algo-1-axxbt |\u001b[0m SM_CURRENT_INSTANCE_TYPE=local\n",
      "\u001b[36ms2ul0rjqso-algo-1-axxbt |\u001b[0m SM_CURRENT_INSTANCE_GROUP=homogeneousCluster\n",
      "\u001b[36ms2ul0rjqso-algo-1-axxbt |\u001b[0m SM_CURRENT_INSTANCE_GROUP_HOSTS=[]\n",
      "\u001b[36ms2ul0rjqso-algo-1-axxbt |\u001b[0m SM_INSTANCE_GROUPS=[]\n",
      "\u001b[36ms2ul0rjqso-algo-1-axxbt |\u001b[0m SM_INSTANCE_GROUPS_DICT={}\n",
      "\u001b[36ms2ul0rjqso-algo-1-axxbt |\u001b[0m SM_DISTRIBUTION_INSTANCE_GROUPS=[]\n",
      "\u001b[36ms2ul0rjqso-algo-1-axxbt |\u001b[0m SM_IS_HETERO=false\n",
      "\u001b[36ms2ul0rjqso-algo-1-axxbt |\u001b[0m SM_MODULE_NAME=cifar10\n",
      "\u001b[36ms2ul0rjqso-algo-1-axxbt |\u001b[0m SM_LOG_LEVEL=20\n",
      "\u001b[36ms2ul0rjqso-algo-1-axxbt |\u001b[0m SM_FRAMEWORK_MODULE=\n",
      "\u001b[36ms2ul0rjqso-algo-1-axxbt |\u001b[0m SM_INPUT_DIR=/opt/ml/input\n",
      "\u001b[36ms2ul0rjqso-algo-1-axxbt |\u001b[0m SM_INPUT_CONFIG_DIR=/opt/ml/input/config\n",
      "\u001b[36ms2ul0rjqso-algo-1-axxbt |\u001b[0m SM_OUTPUT_DIR=/opt/ml/output\n",
      "\u001b[36ms2ul0rjqso-algo-1-axxbt |\u001b[0m SM_NUM_CPUS=8\n",
      "\u001b[36ms2ul0rjqso-algo-1-axxbt |\u001b[0m SM_NUM_GPUS=1\n",
      "\u001b[36ms2ul0rjqso-algo-1-axxbt |\u001b[0m SM_NUM_NEURONS=0\n",
      "\u001b[36ms2ul0rjqso-algo-1-axxbt |\u001b[0m SM_MODEL_DIR=/opt/ml/model\n",
      "\u001b[36ms2ul0rjqso-algo-1-axxbt |\u001b[0m SM_MODULE_DIR=/opt/ml/code\n",
      "\u001b[36ms2ul0rjqso-algo-1-axxbt |\u001b[0m SM_TRAINING_ENV={\"additional_framework_parameters\":{},\"channel_input_dirs\":{\"TR\":\"/opt/ml/input/data/TR\"},\"current_host\":\"algo-1-axxbt\",\"current_instance_group\":\"homogeneousCluster\",\"current_instance_group_hosts\":[],\"current_instance_type\":\"local\",\"distribution_hosts\":[\"algo-1-axxbt\"],\"distribution_instance_groups\":[],\"framework_module\":null,\"hosts\":[\"algo-1-axxbt\"],\"hyperparameters\":{},\"input_config_dir\":\"/opt/ml/input/config\",\"input_data_config\":{\"TR\":{\"TrainingInputMode\":\"File\"}},\"input_dir\":\"/opt/ml/input\",\"instance_groups\":[],\"instance_groups_dict\":{},\"is_hetero\":false,\"is_master\":true,\"is_modelparallel_enabled\":null,\"is_smddpmprun_installed\":false,\"job_name\":\"sm-byom-pytorch-container-2023-02-07-07-51-20-184\",\"log_level\":20,\"master_hostname\":\"algo-1-axxbt\",\"model_dir\":\"/opt/ml/model\",\"module_dir\":\"/opt/ml/code\",\"module_name\":\"cifar10\",\"network_interface_name\":\"eth0\",\"num_cpus\":8,\"num_gpus\":1,\"num_neurons\":0,\"output_data_dir\":\"/opt/ml/output/data\",\"output_dir\":\"/opt/ml/output\",\"output_intermediate_dir\":\"/opt/ml/output/intermediate\",\"resource_config\":{\"current_host\":\"algo-1-axxbt\",\"hosts\":[\"algo-1-axxbt\"]},\"user_entry_point\":\"cifar10.py\"}\n",
      "\u001b[36ms2ul0rjqso-algo-1-axxbt |\u001b[0m SM_USER_ARGS=[]\n",
      "\u001b[36ms2ul0rjqso-algo-1-axxbt |\u001b[0m SM_OUTPUT_INTERMEDIATE_DIR=/opt/ml/output/intermediate\n",
      "\u001b[36ms2ul0rjqso-algo-1-axxbt |\u001b[0m SM_CHANNEL_TR=/opt/ml/input/data/TR\n",
      "\u001b[36ms2ul0rjqso-algo-1-axxbt |\u001b[0m PYTHONPATH=/opt/ml/code:/opt/conda/bin:/opt/conda/lib/python37.zip:/opt/conda/lib/python3.7:/opt/conda/lib/python3.7/lib-dynload:/opt/conda/lib/python3.7/site-packages\n",
      "\u001b[36ms2ul0rjqso-algo-1-axxbt |\u001b[0m \n",
      "\u001b[36ms2ul0rjqso-algo-1-axxbt |\u001b[0m Invoking script with the following command:\n",
      "\u001b[36ms2ul0rjqso-algo-1-axxbt |\u001b[0m \n",
      "\u001b[36ms2ul0rjqso-algo-1-axxbt |\u001b[0m /opt/conda/bin/python3 cifar10.py\n",
      "\u001b[36ms2ul0rjqso-algo-1-axxbt |\u001b[0m \n",
      "\u001b[36ms2ul0rjqso-algo-1-axxbt |\u001b[0m \n",
      "\u001b[36ms2ul0rjqso-algo-1-axxbt |\u001b[0m 2023-02-07 07:51:27,425 sagemaker-training-toolkit INFO     Exceptions not imported for SageMaker Debugger as it is not installed.\n",
      "\u001b[36ms2ul0rjqso-algo-1-axxbt |\u001b[0m 2023-02-07 07:51:27,425 sagemaker-training-toolkit INFO     Exceptions not imported for SageMaker TF as Tensorflow is not installed.\n",
      "\u001b[36ms2ul0rjqso-algo-1-axxbt |\u001b[0m [1,  2000] loss: 2.154\n",
      "\u001b[36ms2ul0rjqso-algo-1-axxbt |\u001b[0m [1,  4000] loss: 1.812\n",
      "\u001b[36ms2ul0rjqso-algo-1-axxbt |\u001b[0m [1,  6000] loss: 1.662\n",
      "\u001b[36ms2ul0rjqso-algo-1-axxbt |\u001b[0m [1,  8000] loss: 1.553\n",
      "\u001b[36ms2ul0rjqso-algo-1-axxbt |\u001b[0m [1, 10000] loss: 1.502\n",
      "\u001b[36ms2ul0rjqso-algo-1-axxbt |\u001b[0m [1, 12000] loss: 1.467\n",
      "\u001b[36ms2ul0rjqso-algo-1-axxbt |\u001b[0m [2,  2000] loss: 1.378\n",
      "\u001b[36ms2ul0rjqso-algo-1-axxbt |\u001b[0m [2,  4000] loss: 1.373\n",
      "\u001b[36ms2ul0rjqso-algo-1-axxbt |\u001b[0m [2,  6000] loss: 1.365\n",
      "\u001b[36ms2ul0rjqso-algo-1-axxbt |\u001b[0m [2,  8000] loss: 1.338\n"
     ]
    }
   ],
   "source": [
    "strDataChannel = \"TR\"\n",
    "\n",
    "estimator.fit(\n",
    "    #inputs=pm.get_params(key=strPrefix + \"DATA-PATH\"),\n",
    "    inputs={strDataChannel: pm.get_params(key=strPrefix + \"DATA-PATH\")},\n",
    "    wait=True\n",
    ")"
   ]
  },
  {
   "cell_type": "code",
   "execution_count": null,
   "id": "d24f6e0a-7420-41e7-824a-4989bb6d85ec",
   "metadata": {},
   "outputs": [],
   "source": []
  }
 ],
 "metadata": {
  "kernelspec": {
   "display_name": "conda_pytorch_p39",
   "language": "python",
   "name": "conda_pytorch_p39"
  },
  "language_info": {
   "codemirror_mode": {
    "name": "ipython",
    "version": 3
   },
   "file_extension": ".py",
   "mimetype": "text/x-python",
   "name": "python",
   "nbconvert_exporter": "python",
   "pygments_lexer": "ipython3",
   "version": "3.9.13"
  }
 },
 "nbformat": 4,
 "nbformat_minor": 5
}
