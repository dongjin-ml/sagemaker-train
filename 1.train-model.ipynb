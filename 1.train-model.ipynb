{
 "cells": [
  {
   "cell_type": "markdown",
   "id": "93de7fc8-120d-4f33-87e2-16a2fda7ba59",
   "metadata": {
    "jupyter": {
     "outputs_hidden": true
    },
    "tags": []
   },
   "source": [
    "# <B> Training models using the framework (Torch) </B>"
   ]
  },
  {
   "cell_type": "markdown",
   "id": "fcc3cc4d-c811-4f7a-ad0b-be6e1f836987",
   "metadata": {},
   "source": [
    "## AutoReload"
   ]
  },
  {
   "cell_type": "code",
   "execution_count": 1,
   "id": "ccb8c76f-4524-4e03-a66b-2e81837b4890",
   "metadata": {},
   "outputs": [],
   "source": [
    "%load_ext autoreload\n",
    "%autoreload 2"
   ]
  },
  {
   "cell_type": "markdown",
   "id": "282a6609-067e-4154-b034-c81538a2e5d0",
   "metadata": {},
   "source": [
    "## 1. parameter store 셋팅"
   ]
  },
  {
   "cell_type": "code",
   "execution_count": 22,
   "id": "b47f5425-2013-49ca-98ef-29cb2131b1c1",
   "metadata": {},
   "outputs": [],
   "source": [
    "import boto3\n",
    "from utils.ssm import parameter_store"
   ]
  },
  {
   "cell_type": "code",
   "execution_count": 23,
   "id": "2c1a73ae-241c-447a-b682-3a882ebdffac",
   "metadata": {},
   "outputs": [],
   "source": [
    "strRegionName=boto3.Session().region_name\n",
    "pm = parameter_store(strRegionName)\n",
    "strPrefix = pm.get_params(key=\"PREFIX\")"
   ]
  },
  {
   "cell_type": "markdown",
   "id": "47a0afbb-666b-44a1-8d67-d34fa500cdb1",
   "metadata": {
    "tags": []
   },
   "source": [
    "## 2. train"
   ]
  },
  {
   "cell_type": "markdown",
   "id": "214501ef-2ca4-4f8b-9e1b-5c104f655e00",
   "metadata": {},
   "source": [
    "### 2.1 with built-in PyTorch image\n",
    "* https://sagemaker-examples.readthedocs.io/en/latest/aws_sagemaker_studio/frameworks/pytorch_cnn_cifar10/pytorch_cnn_cifar10.html\n",
    "* https://sagemaker.readthedocs.io/en/stable/frameworks/pytorch/using_pytorch.html\n",
    "* train, deploy and inference: https://sagemaker.readthedocs.io/en/stable/frameworks/pytorch/sagemaker.pytorch.html"
   ]
  },
  {
   "cell_type": "code",
   "execution_count": 24,
   "id": "64393344-31dc-47b4-976e-5d3516c6ef9f",
   "metadata": {},
   "outputs": [],
   "source": [
    "from sagemaker.pytorch import PyTorch"
   ]
  },
  {
   "cell_type": "code",
   "execution_count": null,
   "id": "42ee4df1-61c5-423d-b10e-0a5df8c9eb5c",
   "metadata": {
    "tags": []
   },
   "outputs": [
    {
     "name": "stderr",
     "output_type": "stream",
     "text": [
      "INFO:sagemaker.image_uris:image_uri is not presented, retrieving image_uri based on instance_type, framework etc.\n",
      "INFO:sagemaker.image_uris:image_uri is not presented, retrieving image_uri based on instance_type, framework etc.\n",
      "INFO:sagemaker:Creating training-job with name: pytorch-training-2023-02-03-14-38-26-194\n"
     ]
    },
    {
     "name": "stdout",
     "output_type": "stream",
     "text": [
      "2023-02-03 14:38:26 Starting - Starting the training job...\n",
      "2023-02-03 14:38:43 Starting - Preparing the instances for training......\n",
      "2023-02-03 14:39:46 Downloading - Downloading input data...\n",
      "2023-02-03 14:40:06 Training - Downloading the training image..................."
     ]
    }
   ],
   "source": [
    "estimator = PyTorch(\n",
    "    source_dir=\"./source\",\n",
    "    entry_point=\"cifar10.py\",\n",
    "    role=pm.get_params(key=strPrefix + \"SAGEMAKER-ROLE-ARN\"),\n",
    "    framework_version=\"1.10.0\",\n",
    "    py_version=\"py38\",\n",
    "    instance_count=1,\n",
    "    instance_type=\"ml.g4dn.xlarge\",\n",
    "    output_path=f\"s3://{pm.get_params(key=strPrefix + 'BUCKET')}/{'byom-model-output'}\",\n",
    ")\n",
    "\n",
    "estimator.fit(\n",
    "    inputs=pm.get_params(key=strPrefix + \"DATA-PATH\"),\n",
    "    wait=True,\n",
    ")"
   ]
  },
  {
   "cell_type": "markdown",
   "id": "a505d75e-b59c-47e4-88d7-8a222419580c",
   "metadata": {},
   "source": [
    "### 2.1 with custom image"
   ]
  },
  {
   "cell_type": "markdown",
   "id": "6b8cb149-a4ee-4567-b1a4-dc8db096b804",
   "metadata": {},
   "source": [
    "#### 2.2.1. Build a docker and Register the image to ECR "
   ]
  },
  {
   "cell_type": "code",
   "execution_count": null,
   "id": "65c40a2c-b2bf-4ca5-aeab-2a618e1af448",
   "metadata": {},
   "outputs": [],
   "source": [
    "import boto3\n",
    "from utils.ecr import ecr_handler"
   ]
  },
  {
   "cell_type": "code",
   "execution_count": null,
   "id": "775eb7ed-c375-4bb2-964e-993cf86740f3",
   "metadata": {},
   "outputs": [],
   "source": [
    "ecr = ecr_handler()"
   ]
  },
  {
   "cell_type": "code",
   "execution_count": null,
   "id": "719b288c-f1e6-4480-84d3-e20a352ee066",
   "metadata": {},
   "outputs": [],
   "source": [
    "! pygmentize docker/Dockerfile"
   ]
  },
  {
   "cell_type": "code",
   "execution_count": null,
   "id": "35872858-ac49-4aac-b7e8-169a8d245797",
   "metadata": {},
   "outputs": [],
   "source": [
    "strRepositoryName = strPrefix + \"pytorch-container\"\n",
    "strRepositoryName = strRepositoryName.lower()\n",
    "strDockerDir = \"./docker/\"\n",
    "strTag = \":latest\"\n",
    "strRegionName=pm.get_params(key=strPrefix + \"REGION\")\n",
    "strAccountId=pm.get_params(key=strPrefix + \"ACCOUNT-ID\")  "
   ]
  },
  {
   "cell_type": "code",
   "execution_count": null,
   "id": "ed367ff0-0a64-4b25-bf55-ec633fe7b241",
   "metadata": {
    "tags": []
   },
   "outputs": [],
   "source": [
    "ecr.build_docker(strDockerDir, strRepositoryName)"
   ]
  },
  {
   "cell_type": "code",
   "execution_count": null,
   "id": "04b31962-527d-4ff5-9a19-6d9ababa179b",
   "metadata": {},
   "outputs": [],
   "source": [
    "strEcrRepositoryUri = ecr.register_image_to_ecr(strRegionName, strAccountId, strRepositoryName, strTag)\n",
    "pm.put_params(key=strPrefix + \"PYTORCH-ECR-URI\", value=strEcrRepositoryUri, overwrite=True)"
   ]
  },
  {
   "cell_type": "markdown",
   "id": "6d6ee5f7-e9d8-4506-9ce0-1252eadbcfc1",
   "metadata": {},
   "source": [
    "#### 2.2.2. Train model with the custom image\n",
    "* https://docs.aws.amazon.com/sagemaker/latest/dg/adapt-training-container.html#:%7E:text=Step%202%3A%20Create%20and%20upload%20the%20Dockerfile%20and%20Python%20training%20scripts"
   ]
  },
  {
   "cell_type": "code",
   "execution_count": null,
   "id": "b22ca55c-5b94-4eb7-919b-00224db7876a",
   "metadata": {},
   "outputs": [],
   "source": [
    "from distutils.dir_util import copy_tree\n",
    "from sagemaker.estimator import Estimator"
   ]
  },
  {
   "cell_type": "code",
   "execution_count": null,
   "id": "af5842fb-54f6-4b49-8289-e5311ebd7efd",
   "metadata": {},
   "outputs": [],
   "source": [
    "copy_tree(\"./source\", \"./docker/code\")"
   ]
  },
  {
   "cell_type": "code",
   "execution_count": null,
   "id": "9c66e7fb-8e47-4d97-aa37-b27a79063aed",
   "metadata": {},
   "outputs": [],
   "source": [
    "estimator=Estimator(\n",
    "    image_uri=pm.get_params(key=strPrefix + \"PYTORCH-ECR-URI\"),\n",
    "    role=pm.get_params(key=strPrefix + \"SAGEMAKER-ROLE-ARN\"), \n",
    "    instance_count=1,\n",
    "    instance_type=\"ml.g4dn.xlarge\",\n",
    "    #instance_type=\"local_gpu\",\n",
    "    volume_size=30,\n",
    "    max_run=360000,\n",
    "    input_mode= 'File',\n",
    "    output_path=f\"s3://{pm.get_params(key=strPrefix + 'BUCKET')}/{'byom-model-output'}\"\n",
    "    #sagemaker_session=self.pipeline_session ## add\n",
    ")"
   ]
  },
  {
   "cell_type": "code",
   "execution_count": null,
   "id": "918faef4-d289-4533-a9db-8d404421161c",
   "metadata": {
    "tags": []
   },
   "outputs": [],
   "source": [
    "estimator.fit(\n",
    "    inputs=pm.get_params(key=strPrefix + \"DATA-PATH\"),\n",
    "    wait=True\n",
    ")"
   ]
  },
  {
   "cell_type": "code",
   "execution_count": null,
   "id": "e3a662aa-d082-4fa1-8be1-a3bf8126816d",
   "metadata": {},
   "outputs": [],
   "source": []
  }
 ],
 "metadata": {
  "kernelspec": {
   "display_name": "conda_pytorch_p39",
   "language": "python",
   "name": "conda_pytorch_p39"
  },
  "language_info": {
   "codemirror_mode": {
    "name": "ipython",
    "version": 3
   },
   "file_extension": ".py",
   "mimetype": "text/x-python",
   "name": "python",
   "nbconvert_exporter": "python",
   "pygments_lexer": "ipython3",
   "version": "3.9.13"
  }
 },
 "nbformat": 4,
 "nbformat_minor": 5
}
